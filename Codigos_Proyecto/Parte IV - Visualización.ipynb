{
 "cells": [
  {
   "cell_type": "markdown",
   "id": "9b5717af-89e1-4607-918d-dc14b7a103db",
   "metadata": {
    "id": "9b5717af-89e1-4607-918d-dc14b7a103db"
   },
   "source": [
    "#  Práctica Obligatoria - Parte IV - Visualización\n",
    "\n",
    "***<p style=\"text-align:center;\">Aprendizaje Automático II</p>***\n",
    "***<p style=\"text-align:center;\">Visualización</p>***\n",
    "\n",
    "En esta parte, cargarás un modelo CNN entrenado y visualizarás los parámetros y sus activaciones.\n",
    "\n",
    "### Evaluación - 1.5/10 puntos\n",
    "\n",
    "Puntuación de cada parte sobre el total de la práctica:\n",
    "- **[Ejercicio 1]** 1.5 puntos."
   ]
  },
  {
   "cell_type": "code",
   "execution_count": null,
   "id": "YR_BM0W2mbWO",
   "metadata": {
    "colab": {
     "base_uri": "https://localhost:8080/"
    },
    "executionInfo": {
     "elapsed": 12261,
     "status": "ok",
     "timestamp": 1736962225218,
     "user": {
      "displayName": "Hugo Almendro",
      "userId": "05079077353766721572"
     },
     "user_tz": -60
    },
    "id": "YR_BM0W2mbWO",
    "outputId": "44a51be0-7f86-4a3c-9df1-1631bd10d2f3"
   },
   "outputs": [],
   "source": [
    "!unzip data.zip"
   ]
  },
  {
   "cell_type": "code",
   "execution_count": 2,
   "id": "30e2b9ef-8964-4517-9203-a37de61cca0a",
   "metadata": {
    "executionInfo": {
     "elapsed": 12163,
     "status": "ok",
     "timestamp": 1736962237379,
     "user": {
      "displayName": "Hugo Almendro",
      "userId": "05079077353766721572"
     },
     "user_tz": -60
    },
    "id": "30e2b9ef-8964-4517-9203-a37de61cca0a"
   },
   "outputs": [],
   "source": [
    "import pandas as pd\n",
    "import numpy as np\n",
    "import matplotlib.pyplot as plt\n",
    "import seaborn as sns\n",
    "\n",
    "import torch\n",
    "import torch.nn as nn\n",
    "import torch.nn.functional as F\n",
    "\n",
    "from torch.utils.data import DataLoader\n",
    "from torchvision import transforms\n",
    "\n",
    "from gts_dataset import GTS"
   ]
  },
  {
   "cell_type": "markdown",
   "id": "4721cd25-847b-4a45-b419-97c3c666349c",
   "metadata": {
    "id": "4721cd25-847b-4a45-b419-97c3c666349c"
   },
   "source": [
    "## Importa las funciones que has creado desde `utils.py`:"
   ]
  },
  {
   "cell_type": "code",
   "execution_count": 3,
   "id": "24c3cfad-ce31-4709-80ff-69bf7a3517d8",
   "metadata": {
    "executionInfo": {
     "elapsed": 300,
     "status": "ok",
     "timestamp": 1736962237678,
     "user": {
      "displayName": "Hugo Almendro",
      "userId": "05079077353766721572"
     },
     "user_tz": -60
    },
    "id": "24c3cfad-ce31-4709-80ff-69bf7a3517d8"
   },
   "outputs": [],
   "source": [
    "from utils import count_trainable_params, train, evaluate, train_and_evaluate, save_full_model, load_full_model, plot_loss_accuracy, plot_confusion_matrix, plot_error_per_class"
   ]
  },
  {
   "cell_type": "markdown",
   "id": "d31d0566-d33e-46fa-8c04-a343ac34ae4d",
   "metadata": {
    "id": "d31d0566-d33e-46fa-8c04-a343ac34ae4d"
   },
   "source": [
    "## Carga el dataset GTS  y crea los dataloaders:"
   ]
  },
  {
   "cell_type": "code",
   "execution_count": 4,
   "id": "48514552-d2f5-4010-a262-43497d6a1ce0",
   "metadata": {
    "colab": {
     "base_uri": "https://localhost:8080/"
    },
    "executionInfo": {
     "elapsed": 2,
     "status": "ok",
     "timestamp": 1736962237973,
     "user": {
      "displayName": "Hugo Almendro",
      "userId": "05079077353766721572"
     },
     "user_tz": -60
    },
    "id": "48514552-d2f5-4010-a262-43497d6a1ce0",
    "outputId": "1284c62a-43e5-4eb3-b0c9-a795ea5c322b"
   },
   "outputs": [
    {
     "name": "stderr",
     "output_type": "stream",
     "text": [
      "/usr/local/lib/python3.10/dist-packages/torch/utils/data/dataloader.py:617: UserWarning: This DataLoader will create 4 worker processes in total. Our suggested max number of worker in current system is 2, which is smaller than what this DataLoader is going to create. Please be aware that excessive worker creation might get DataLoader running slow or even freeze, lower the worker number to avoid potential slowness/freeze if necessary.\n",
      "  warnings.warn(\n"
     ]
    }
   ],
   "source": [
    "# Definir las transformaciones y conversión a tensor\n",
    "transform = transforms.Compose([\n",
    "    transforms.ToTensor(),\n",
    "])\n",
    "\n",
    "train_dataset = GTS(csv_file='train.csv', root_dir='./data', transform=transform)\n",
    "valid_dataset = GTS(csv_file='valid.csv', root_dir='./data', transform=transform)\n",
    "test_dataset = GTS(csv_file='test.csv', root_dir='./data', transform=transform)\n",
    "\n",
    "device = 'cpu'\n",
    "batch_size = 16\n",
    "\n",
    "train_loader = DataLoader(train_dataset, batch_size=batch_size, shuffle=True, num_workers=4)\n",
    "valid_loader = DataLoader(valid_dataset, batch_size=batch_size, shuffle=False, num_workers=4)\n",
    "test_loader = DataLoader(test_dataset, batch_size=batch_size, shuffle=False, num_workers=4)"
   ]
  },
  {
   "cell_type": "markdown",
   "id": "a80f427a-39be-4f81-a60d-8c97898b8165",
   "metadata": {
    "id": "a80f427a-39be-4f81-a60d-8c97898b8165"
   },
   "source": [
    "# Carga el modelo `CNN` entrenado (`cnn.pth`):"
   ]
  },
  {
   "cell_type": "code",
   "execution_count": null,
   "id": "76b630fa-8c00-4a4d-af74-17b7fc511ad3",
   "metadata": {
    "colab": {
     "base_uri": "https://localhost:8080/"
    },
    "executionInfo": {
     "elapsed": 212,
     "status": "ok",
     "timestamp": 1736962255964,
     "user": {
      "displayName": "Hugo Almendro",
      "userId": "05079077353766721572"
     },
     "user_tz": -60
    },
    "id": "76b630fa-8c00-4a4d-af74-17b7fc511ad3",
    "outputId": "ed22054a-c362-48be-a9fc-78a4d105484f"
   },
   "outputs": [
    {
     "name": "stdout",
     "output_type": "stream",
     "text": [
      "Modelo cargado desde cnn.pth\n"
     ]
    },
    {
     "name": "stderr",
     "output_type": "stream",
     "text": [
      "/content/utils.py:154: FutureWarning: You are using `torch.load` with `weights_only=False` (the current default value), which uses the default pickle module implicitly. It is possible to construct malicious pickle data which will execute arbitrary code during unpickling (See https://github.com/pytorch/pytorch/blob/main/SECURITY.md#untrusted-models for more details). In a future release, the default value for `weights_only` will be flipped to `True`. This limits the functions that could be executed during unpickling. Arbitrary objects will no longer be allowed to be loaded via this mode unless they are explicitly allowlisted by the user via `torch.serialization.add_safe_globals`. We recommend you start setting `weights_only=True` for any use case where you don't have full control of the loaded file. Please open an issue on GitHub for any issues related to this experimental feature.\n",
      "  model = torch.load(file_name)\n"
     ]
    },
    {
     "data": {
      "text/plain": [
       "CNN(\n",
       "  (block1): Sequential(\n",
       "    (0): Conv2d(3, 16, kernel_size=(3, 3), stride=(1, 1), padding=(1, 1))\n",
       "    (1): BatchNorm2d(16, eps=1e-05, momentum=0.1, affine=True, track_running_stats=True)\n",
       "    (2): ReLU()\n",
       "    (3): MaxPool2d(kernel_size=2, stride=2, padding=0, dilation=1, ceil_mode=False)\n",
       "  )\n",
       "  (block2): Sequential(\n",
       "    (0): Conv2d(16, 32, kernel_size=(3, 3), stride=(1, 1), padding=(1, 1))\n",
       "    (1): BatchNorm2d(32, eps=1e-05, momentum=0.1, affine=True, track_running_stats=True)\n",
       "    (2): ReLU()\n",
       "    (3): MaxPool2d(kernel_size=2, stride=2, padding=0, dilation=1, ceil_mode=False)\n",
       "  )\n",
       "  (block3): Sequential(\n",
       "    (0): Conv2d(32, 64, kernel_size=(3, 3), stride=(1, 1), padding=(1, 1))\n",
       "    (1): BatchNorm2d(64, eps=1e-05, momentum=0.1, affine=True, track_running_stats=True)\n",
       "    (2): ReLU()\n",
       "    (3): MaxPool2d(kernel_size=2, stride=2, padding=0, dilation=1, ceil_mode=False)\n",
       "  )\n",
       "  (flatten): Flatten(start_dim=1, end_dim=-1)\n",
       "  (linear): Linear(in_features=576, out_features=43, bias=True)\n",
       ")"
      ]
     },
     "execution_count": 7,
     "metadata": {},
     "output_type": "execute_result"
    }
   ],
   "source": [
    "from models import CNN\n",
    "\n",
    "model_cnn = load_full_model('cnn.pth')  \n",
    "\n",
    "model_cnn"
   ]
  },
  {
   "cell_type": "markdown",
   "id": "5f7c4c52-12df-4be1-870b-d9b409662668",
   "metadata": {
    "id": "5f7c4c52-12df-4be1-870b-d9b409662668"
   },
   "source": [
    "## **[Ejercicio 1]** Visualiza los filtros de la primera capa convolucional y sus activaciones para una imagen dada:"
   ]
  },
  {
   "cell_type": "markdown",
   "id": "6ef0217c-ce4e-4101-87c0-85b83191f6fe",
   "metadata": {
    "id": "6ef0217c-ce4e-4101-87c0-85b83191f6fe"
   },
   "source": [
    "Para acceder a los filtros, puedes hacer uso de la notación por punto:\n",
    "\n",
    "`model_cnn.conv1.weight.data`\n",
    "\n",
    "Para visualizar las activaciones, deberás ejecutar cada función del bloque convolucional que necesites (conv --> bn --> relu)."
   ]
  },
  {
   "cell_type": "code",
   "execution_count": null,
   "id": "e19dcabe-17b3-424e-8540-8abe7ca8f571",
   "metadata": {
    "colab": {
     "base_uri": "https://localhost:8080/",
     "height": 560,
     "referenced_widgets": [
      "617b1486668f4269b0d3c81bc612b468",
      "2ed8bc9a96bb40a7bc8fd488b3dfce69",
      "d600e6ef8ccb48948955c8333f09e991",
      "bd438426f25d446999afcfe74be9cbff",
      "b102b346229f4660aa3efd9270a9ef3f",
      "26678f7ff6d94d05a8c0e75c0c245d0e",
      "310eb801a4b74eb18d4a8f78f39215d8"
     ]
    },
    "executionInfo": {
     "elapsed": 744,
     "status": "ok",
     "timestamp": 1736962261430,
     "user": {
      "displayName": "Hugo Almendro",
      "userId": "05079077353766721572"
     },
     "user_tz": -60
    },
    "id": "e19dcabe-17b3-424e-8540-8abe7ca8f571",
    "outputId": "d7ad833f-c69b-4af0-db18-57d993289ee0"
   },
   "outputs": [
    {
     "data": {
      "application/vnd.jupyter.widget-view+json": {
       "model_id": "617b1486668f4269b0d3c81bc612b468",
       "version_major": 2,
       "version_minor": 0
      },
      "text/plain": [
       "interactive(children=(IntSlider(value=0, description='Índice', max=15), Output()), _dom_classes=('widget-inter…"
      ]
     },
     "metadata": {},
     "output_type": "display_data"
    }
   ],
   "source": [
    "from ipywidgets import interact, IntSlider\n",
    "import matplotlib.pyplot as plt\n",
    "\n",
    "def plot_filter_and_activation(model, image, device='cpu'):\n",
    "    \"\"\"\n",
    "    Visualiza la imagen original, un filtro y su activación correspondiente.\n",
    "    \"\"\"\n",
    "    model.eval()  # Asegurar modo evaluación\n",
    "\n",
    "    with torch.no_grad():\n",
    "       \n",
    "        # Calcular activaciones de la primera capa\n",
    "        block1 = model.block1[0]\n",
    "        activations = block1(image).squeeze(0).cpu()\n",
    "\n",
    "   \n",
    "    # Procesar filtros y activaciones para visualización\n",
    "    filters = block1.weight.data    # Filtros de la primera capa\n",
    "\n",
    "    image_np = image.permute(1, 2, 0).cpu().detach().numpy()  # Imagen original en formato HWC para visualizar\n",
    "\n",
    "    # Asegurar valores entre 0 y 1 para la imagen original\n",
    "    image_np = (image_np - image_np.min()) / (image_np.max() - image_np.min())\n",
    "\n",
    "    # Unificar el número de elementos para el slider\n",
    "    num_elements = min(filters.shape[0], activations.shape[0])\n",
    "\n",
    "    def plot_image_filter_activation(index):\n",
    "        \"\"\"\n",
    "        Visualiza la imagen original, un filtro y su activación correspondiente.\n",
    "        \"\"\"\n",
    "        # Configurar la figura\n",
    "        fig, axs = plt.subplots(1, 3, figsize=(15, 5))\n",
    "\n",
    "        # Mostrar imagen original\n",
    "        axs[0].imshow(image_np)\n",
    "        axs[0].set_title(\"Imagen Original\")\n",
    "        axs[0].axis('off')\n",
    "\n",
    "        # Mostrar filtro\n",
    "        filter_img = filters[index, :, :, :].permute(1, 2, 0).detach().numpy()\n",
    "        filter_img = (filter_img - filter_img.min()) / (filter_img.max() - filter_img.min())\n",
    "        axs[1].imshow(filter_img)\n",
    "        axs[1].set_title(f\"Filtro {index+1}\")\n",
    "        axs[1].axis('off')\n",
    "\n",
    "        # Mostrar activación\n",
    "        activation_img = activations[index, :, :].detach().numpy()\n",
    "        axs[2].imshow(activation_img, cmap='gray')\n",
    "        axs[2].set_title(f\"Activación {index+1}\")\n",
    "        axs[2].axis('off')\n",
    "\n",
    "        plt.tight_layout()\n",
    "        plt.show()\n",
    "\n",
    "    # Crear un slider interactivo\n",
    "    interact(plot_image_filter_activation, index=IntSlider(min=0, max=num_elements-1, step=1, description=\"Índice\"))\n",
    "\n",
    "# Ejemplo: Usar la visualización unificada con imagen original\n",
    "example_image, _ = test_dataset[0]  # Seleccionar una imagen del conjunto de prueba\n",
    "plot_filter_and_activation(model_cnn, example_image)\n",
    "\n",
    "# Al descargar el archivo, las imagenes no se pueden representar, pero al ejecutarlo de nuevo funciona"
   ]
  },
  {
   "cell_type": "code",
   "execution_count": null,
   "id": "445685e9-7e7b-4b7b-99fc-a0f800fda5be",
   "metadata": {
    "colab": {
     "base_uri": "https://localhost:8080/",
     "height": 592,
     "referenced_widgets": [
      "ad82129b8a25467a8ce5023e50d46f6c",
      "09da6ee5f81a4d71a738233df417a4ee",
      "56739b88c0944581be5a007ce5809577",
      "2cf4abb27217487fb26c7ffe3663d6e6",
      "ec34ef7b75394c75bfc9237e302d8f00",
      "bbb8e43554bc4e83be02313148948edc",
      "fa263e954b5245ed84e42dd5533193a1",
      "1979fc1696f6402bb00e08c4e6d31310",
      "556f7dd3e26246c7b0999b1c5c77054b",
      "296095de59b34c22b7dbffb1f429546f"
     ]
    },
    "executionInfo": {
     "elapsed": 747,
     "status": "ok",
     "timestamp": 1736962296307,
     "user": {
      "displayName": "Hugo Almendro",
      "userId": "05079077353766721572"
     },
     "user_tz": -60
    },
    "id": "445685e9-7e7b-4b7b-99fc-a0f800fda5be",
    "outputId": "fd450016-95bb-4c98-ddd1-3e40fe9d1910"
   },
   "outputs": [
    {
     "data": {
      "application/vnd.jupyter.widget-view+json": {
       "model_id": "ad82129b8a25467a8ce5023e50d46f6c",
       "version_major": 2,
       "version_minor": 0
      },
      "text/plain": [
       "interactive(children=(IntSlider(value=0, description='Desp. Hor', max=10, min=-10), IntSlider(value=0, descrip…"
      ]
     },
     "metadata": {},
     "output_type": "display_data"
    }
   ],
   "source": [
    "def shift_image_and_visualize_activations(model, image, device='cpu'):\n",
    "    \"\"\"\n",
    "    Visualiza cómo las activaciones cambian al desplazar la imagen horizontal y verticalmente.\n",
    "    \"\"\"\n",
    "    model.eval()  # Asegurar modo evaluación\n",
    "    with torch.no_grad():\n",
    "       \n",
    "        # Calcular activaciones de la primera capa\n",
    "        block1 = model.block1[0]\n",
    "        activations = block1(image).squeeze(0).cpu()\n",
    "\n",
    "    \n",
    "    # Procesar filtros y activaciones para visualización\n",
    "    filters = block1.weight.data  # Filtros de la primera capa\n",
    "\n",
    "    image_np = image.permute(1, 2, 0).cpu().numpy()  # Imagen original en formato HWC para visualizar\n",
    "\n",
    "    # Asegurar valores entre 0 y 1 para la imagen original\n",
    "    image_np = (image_np - image_np.min()) / (image_np.max() - image_np.min())\n",
    "\n",
    "    def shift_and_plot_activation(horizontal_shift, vertical_shift):\n",
    "        \"\"\"\n",
    "        Traslada la imagen en las direcciones horizontal y vertical, y visualiza el cambio en las activaciones.\n",
    "        \"\"\"\n",
    "        # Desplazar la imagen horizontal y verticalmente\n",
    "        shifted_image = np.roll(image_np, horizontal_shift, axis=1)  # Desplazamiento horizontal\n",
    "        shifted_image = np.roll(shifted_image, vertical_shift, axis=0)  # Desplazamiento vertical\n",
    "\n",
    "        # Configurar la figura\n",
    "        fig, axs = plt.subplots(1, 3, figsize=(15, 5))\n",
    "\n",
    "        # Mostrar imagen original\n",
    "        axs[0].imshow(image_np)\n",
    "        axs[0].set_title(\"Imagen Original\")\n",
    "        axs[0].axis('off')\n",
    "\n",
    "        # Mostrar imagen desplazada\n",
    "        axs[1].imshow(shifted_image)\n",
    "        axs[1].set_title(f\"Imagen Desplazada (Horizontal: {horizontal_shift}, Vertical: {vertical_shift})\")\n",
    "        axs[1].axis('off')\n",
    "\n",
    "        # Calcular activaciones para la imagen desplazada\n",
    "        shifted_image_tensor = torch.tensor(shifted_image).permute(2, 0, 1).unsqueeze(0).float()\n",
    "        shifted_activations = block1(shifted_image_tensor).squeeze(0).cpu()\n",
    "\n",
    "        # Mostrar activación de la imagen desplazada\n",
    "        activation_img = shifted_activations[0, :, :].detach().numpy()\n",
    "        axs[2].imshow(activation_img, cmap='inferno')\n",
    "        axs[2].set_title(f\"Activación Después Desplazamiento\")\n",
    "        axs[2].axis('off')\n",
    "\n",
    "        plt.tight_layout()\n",
    "        plt.show()\n",
    "\n",
    "    # Crear sliders interactivos para el desplazamiento horizontal y vertical\n",
    "    max_shift = 10  # Máximo desplazamiento en píxeles\n",
    "    interact(shift_and_plot_activation,\n",
    "             horizontal_shift=IntSlider(min=-max_shift, max=max_shift, step=1, description=\"Desp. Hor\"),\n",
    "             vertical_shift=IntSlider(min=-max_shift, max=max_shift, step=1, description=\"Desp. Vert\"))\n",
    "\n",
    "example_image, _ = test_dataset[0]  # Seleccionar una imagen del conjunto de prueba\n",
    "shift_image_and_visualize_activations(model_cnn, example_image)\n",
    "\n",
    "# Al descargar el archivo, las imagenes no se pueden representar, pero al ejecutarlo de nuevo funciona"
   ]
  }
 ],
 "metadata": {
  "colab": {
   "provenance": []
  },
  "kernelspec": {
   "display_name": "Python 3 (ipykernel)",
   "language": "python",
   "name": "python3"
  },
  "language_info": {
   "codemirror_mode": {
    "name": "ipython",
    "version": 3
   },
   "file_extension": ".py",
   "mimetype": "text/x-python",
   "name": "python",
   "nbconvert_exporter": "python",
   "pygments_lexer": "ipython3",
   "version": "3.10.14"
  },
  "widgets": {
   "application/vnd.jupyter.widget-state+json": {
    "09da6ee5f81a4d71a738233df417a4ee": {
     "model_module": "@jupyter-widgets/controls",
     "model_module_version": "1.5.0",
     "model_name": "IntSliderModel",
     "state": {
      "_dom_classes": [],
      "_model_module": "@jupyter-widgets/controls",
      "_model_module_version": "1.5.0",
      "_model_name": "IntSliderModel",
      "_view_count": null,
      "_view_module": "@jupyter-widgets/controls",
      "_view_module_version": "1.5.0",
      "_view_name": "IntSliderView",
      "continuous_update": true,
      "description": "Desp. Hor",
      "description_tooltip": null,
      "disabled": false,
      "layout": "IPY_MODEL_bbb8e43554bc4e83be02313148948edc",
      "max": 10,
      "min": -10,
      "orientation": "horizontal",
      "readout": true,
      "readout_format": "d",
      "step": 1,
      "style": "IPY_MODEL_fa263e954b5245ed84e42dd5533193a1",
      "value": 2
     }
    },
    "1979fc1696f6402bb00e08c4e6d31310": {
     "model_module": "@jupyter-widgets/base",
     "model_module_version": "1.2.0",
     "model_name": "LayoutModel",
     "state": {
      "_model_module": "@jupyter-widgets/base",
      "_model_module_version": "1.2.0",
      "_model_name": "LayoutModel",
      "_view_count": null,
      "_view_module": "@jupyter-widgets/base",
      "_view_module_version": "1.2.0",
      "_view_name": "LayoutView",
      "align_content": null,
      "align_items": null,
      "align_self": null,
      "border": null,
      "bottom": null,
      "display": null,
      "flex": null,
      "flex_flow": null,
      "grid_area": null,
      "grid_auto_columns": null,
      "grid_auto_flow": null,
      "grid_auto_rows": null,
      "grid_column": null,
      "grid_gap": null,
      "grid_row": null,
      "grid_template_areas": null,
      "grid_template_columns": null,
      "grid_template_rows": null,
      "height": null,
      "justify_content": null,
      "justify_items": null,
      "left": null,
      "margin": null,
      "max_height": null,
      "max_width": null,
      "min_height": null,
      "min_width": null,
      "object_fit": null,
      "object_position": null,
      "order": null,
      "overflow": null,
      "overflow_x": null,
      "overflow_y": null,
      "padding": null,
      "right": null,
      "top": null,
      "visibility": null,
      "width": null
     }
    },
    "26678f7ff6d94d05a8c0e75c0c245d0e": {
     "model_module": "@jupyter-widgets/controls",
     "model_module_version": "1.5.0",
     "model_name": "SliderStyleModel",
     "state": {
      "_model_module": "@jupyter-widgets/controls",
      "_model_module_version": "1.5.0",
      "_model_name": "SliderStyleModel",
      "_view_count": null,
      "_view_module": "@jupyter-widgets/base",
      "_view_module_version": "1.2.0",
      "_view_name": "StyleView",
      "description_width": "",
      "handle_color": null
     }
    },
    "296095de59b34c22b7dbffb1f429546f": {
     "model_module": "@jupyter-widgets/base",
     "model_module_version": "1.2.0",
     "model_name": "LayoutModel",
     "state": {
      "_model_module": "@jupyter-widgets/base",
      "_model_module_version": "1.2.0",
      "_model_name": "LayoutModel",
      "_view_count": null,
      "_view_module": "@jupyter-widgets/base",
      "_view_module_version": "1.2.0",
      "_view_name": "LayoutView",
      "align_content": null,
      "align_items": null,
      "align_self": null,
      "border": null,
      "bottom": null,
      "display": null,
      "flex": null,
      "flex_flow": null,
      "grid_area": null,
      "grid_auto_columns": null,
      "grid_auto_flow": null,
      "grid_auto_rows": null,
      "grid_column": null,
      "grid_gap": null,
      "grid_row": null,
      "grid_template_areas": null,
      "grid_template_columns": null,
      "grid_template_rows": null,
      "height": null,
      "justify_content": null,
      "justify_items": null,
      "left": null,
      "margin": null,
      "max_height": null,
      "max_width": null,
      "min_height": null,
      "min_width": null,
      "object_fit": null,
      "object_position": null,
      "order": null,
      "overflow": null,
      "overflow_x": null,
      "overflow_y": null,
      "padding": null,
      "right": null,
      "top": null,
      "visibility": null,
      "width": null
     }
    },
    "2cf4abb27217487fb26c7ffe3663d6e6": {
     "model_module": "@jupyter-widgets/output",
     "model_module_version": "1.0.0",
     "model_name": "OutputModel",
     "state": {
      "_dom_classes": [],
      "_model_module": "@jupyter-widgets/output",
      "_model_module_version": "1.0.0",
      "_model_name": "OutputModel",
      "_view_count": null,
      "_view_module": "@jupyter-widgets/output",
      "_view_module_version": "1.0.0",
      "_view_name": "OutputView",
      "layout": "IPY_MODEL_296095de59b34c22b7dbffb1f429546f",
      "msg_id": "",
      "outputs": [
       {
        "data": {
         "image/png": "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\n",
         "text/plain": "<Figure size 1500x500 with 3 Axes>"
        },
        "metadata": {},
        "output_type": "display_data"
       }
      ]
     }
    },
    "2ed8bc9a96bb40a7bc8fd488b3dfce69": {
     "model_module": "@jupyter-widgets/controls",
     "model_module_version": "1.5.0",
     "model_name": "IntSliderModel",
     "state": {
      "_dom_classes": [],
      "_model_module": "@jupyter-widgets/controls",
      "_model_module_version": "1.5.0",
      "_model_name": "IntSliderModel",
      "_view_count": null,
      "_view_module": "@jupyter-widgets/controls",
      "_view_module_version": "1.5.0",
      "_view_name": "IntSliderView",
      "continuous_update": true,
      "description": "Índice",
      "description_tooltip": null,
      "disabled": false,
      "layout": "IPY_MODEL_b102b346229f4660aa3efd9270a9ef3f",
      "max": 15,
      "min": 0,
      "orientation": "horizontal",
      "readout": true,
      "readout_format": "d",
      "step": 1,
      "style": "IPY_MODEL_26678f7ff6d94d05a8c0e75c0c245d0e",
      "value": 2
     }
    },
    "310eb801a4b74eb18d4a8f78f39215d8": {
     "model_module": "@jupyter-widgets/base",
     "model_module_version": "1.2.0",
     "model_name": "LayoutModel",
     "state": {
      "_model_module": "@jupyter-widgets/base",
      "_model_module_version": "1.2.0",
      "_model_name": "LayoutModel",
      "_view_count": null,
      "_view_module": "@jupyter-widgets/base",
      "_view_module_version": "1.2.0",
      "_view_name": "LayoutView",
      "align_content": null,
      "align_items": null,
      "align_self": null,
      "border": null,
      "bottom": null,
      "display": null,
      "flex": null,
      "flex_flow": null,
      "grid_area": null,
      "grid_auto_columns": null,
      "grid_auto_flow": null,
      "grid_auto_rows": null,
      "grid_column": null,
      "grid_gap": null,
      "grid_row": null,
      "grid_template_areas": null,
      "grid_template_columns": null,
      "grid_template_rows": null,
      "height": null,
      "justify_content": null,
      "justify_items": null,
      "left": null,
      "margin": null,
      "max_height": null,
      "max_width": null,
      "min_height": null,
      "min_width": null,
      "object_fit": null,
      "object_position": null,
      "order": null,
      "overflow": null,
      "overflow_x": null,
      "overflow_y": null,
      "padding": null,
      "right": null,
      "top": null,
      "visibility": null,
      "width": null
     }
    },
    "556f7dd3e26246c7b0999b1c5c77054b": {
     "model_module": "@jupyter-widgets/controls",
     "model_module_version": "1.5.0",
     "model_name": "SliderStyleModel",
     "state": {
      "_model_module": "@jupyter-widgets/controls",
      "_model_module_version": "1.5.0",
      "_model_name": "SliderStyleModel",
      "_view_count": null,
      "_view_module": "@jupyter-widgets/base",
      "_view_module_version": "1.2.0",
      "_view_name": "StyleView",
      "description_width": "",
      "handle_color": null
     }
    },
    "56739b88c0944581be5a007ce5809577": {
     "model_module": "@jupyter-widgets/controls",
     "model_module_version": "1.5.0",
     "model_name": "IntSliderModel",
     "state": {
      "_dom_classes": [],
      "_model_module": "@jupyter-widgets/controls",
      "_model_module_version": "1.5.0",
      "_model_name": "IntSliderModel",
      "_view_count": null,
      "_view_module": "@jupyter-widgets/controls",
      "_view_module_version": "1.5.0",
      "_view_name": "IntSliderView",
      "continuous_update": true,
      "description": "Desp. Vert",
      "description_tooltip": null,
      "disabled": false,
      "layout": "IPY_MODEL_1979fc1696f6402bb00e08c4e6d31310",
      "max": 10,
      "min": -10,
      "orientation": "horizontal",
      "readout": true,
      "readout_format": "d",
      "step": 1,
      "style": "IPY_MODEL_556f7dd3e26246c7b0999b1c5c77054b",
      "value": -2
     }
    },
    "617b1486668f4269b0d3c81bc612b468": {
     "model_module": "@jupyter-widgets/controls",
     "model_module_version": "1.5.0",
     "model_name": "VBoxModel",
     "state": {
      "_dom_classes": [
       "widget-interact"
      ],
      "_model_module": "@jupyter-widgets/controls",
      "_model_module_version": "1.5.0",
      "_model_name": "VBoxModel",
      "_view_count": null,
      "_view_module": "@jupyter-widgets/controls",
      "_view_module_version": "1.5.0",
      "_view_name": "VBoxView",
      "box_style": "",
      "children": [
       "IPY_MODEL_2ed8bc9a96bb40a7bc8fd488b3dfce69",
       "IPY_MODEL_d600e6ef8ccb48948955c8333f09e991"
      ],
      "layout": "IPY_MODEL_bd438426f25d446999afcfe74be9cbff"
     }
    },
    "ad82129b8a25467a8ce5023e50d46f6c": {
     "model_module": "@jupyter-widgets/controls",
     "model_module_version": "1.5.0",
     "model_name": "VBoxModel",
     "state": {
      "_dom_classes": [
       "widget-interact"
      ],
      "_model_module": "@jupyter-widgets/controls",
      "_model_module_version": "1.5.0",
      "_model_name": "VBoxModel",
      "_view_count": null,
      "_view_module": "@jupyter-widgets/controls",
      "_view_module_version": "1.5.0",
      "_view_name": "VBoxView",
      "box_style": "",
      "children": [
       "IPY_MODEL_09da6ee5f81a4d71a738233df417a4ee",
       "IPY_MODEL_56739b88c0944581be5a007ce5809577",
       "IPY_MODEL_2cf4abb27217487fb26c7ffe3663d6e6"
      ],
      "layout": "IPY_MODEL_ec34ef7b75394c75bfc9237e302d8f00"
     }
    },
    "b102b346229f4660aa3efd9270a9ef3f": {
     "model_module": "@jupyter-widgets/base",
     "model_module_version": "1.2.0",
     "model_name": "LayoutModel",
     "state": {
      "_model_module": "@jupyter-widgets/base",
      "_model_module_version": "1.2.0",
      "_model_name": "LayoutModel",
      "_view_count": null,
      "_view_module": "@jupyter-widgets/base",
      "_view_module_version": "1.2.0",
      "_view_name": "LayoutView",
      "align_content": null,
      "align_items": null,
      "align_self": null,
      "border": null,
      "bottom": null,
      "display": null,
      "flex": null,
      "flex_flow": null,
      "grid_area": null,
      "grid_auto_columns": null,
      "grid_auto_flow": null,
      "grid_auto_rows": null,
      "grid_column": null,
      "grid_gap": null,
      "grid_row": null,
      "grid_template_areas": null,
      "grid_template_columns": null,
      "grid_template_rows": null,
      "height": null,
      "justify_content": null,
      "justify_items": null,
      "left": null,
      "margin": null,
      "max_height": null,
      "max_width": null,
      "min_height": null,
      "min_width": null,
      "object_fit": null,
      "object_position": null,
      "order": null,
      "overflow": null,
      "overflow_x": null,
      "overflow_y": null,
      "padding": null,
      "right": null,
      "top": null,
      "visibility": null,
      "width": null
     }
    },
    "bbb8e43554bc4e83be02313148948edc": {
     "model_module": "@jupyter-widgets/base",
     "model_module_version": "1.2.0",
     "model_name": "LayoutModel",
     "state": {
      "_model_module": "@jupyter-widgets/base",
      "_model_module_version": "1.2.0",
      "_model_name": "LayoutModel",
      "_view_count": null,
      "_view_module": "@jupyter-widgets/base",
      "_view_module_version": "1.2.0",
      "_view_name": "LayoutView",
      "align_content": null,
      "align_items": null,
      "align_self": null,
      "border": null,
      "bottom": null,
      "display": null,
      "flex": null,
      "flex_flow": null,
      "grid_area": null,
      "grid_auto_columns": null,
      "grid_auto_flow": null,
      "grid_auto_rows": null,
      "grid_column": null,
      "grid_gap": null,
      "grid_row": null,
      "grid_template_areas": null,
      "grid_template_columns": null,
      "grid_template_rows": null,
      "height": null,
      "justify_content": null,
      "justify_items": null,
      "left": null,
      "margin": null,
      "max_height": null,
      "max_width": null,
      "min_height": null,
      "min_width": null,
      "object_fit": null,
      "object_position": null,
      "order": null,
      "overflow": null,
      "overflow_x": null,
      "overflow_y": null,
      "padding": null,
      "right": null,
      "top": null,
      "visibility": null,
      "width": null
     }
    },
    "bd438426f25d446999afcfe74be9cbff": {
     "model_module": "@jupyter-widgets/base",
     "model_module_version": "1.2.0",
     "model_name": "LayoutModel",
     "state": {
      "_model_module": "@jupyter-widgets/base",
      "_model_module_version": "1.2.0",
      "_model_name": "LayoutModel",
      "_view_count": null,
      "_view_module": "@jupyter-widgets/base",
      "_view_module_version": "1.2.0",
      "_view_name": "LayoutView",
      "align_content": null,
      "align_items": null,
      "align_self": null,
      "border": null,
      "bottom": null,
      "display": null,
      "flex": null,
      "flex_flow": null,
      "grid_area": null,
      "grid_auto_columns": null,
      "grid_auto_flow": null,
      "grid_auto_rows": null,
      "grid_column": null,
      "grid_gap": null,
      "grid_row": null,
      "grid_template_areas": null,
      "grid_template_columns": null,
      "grid_template_rows": null,
      "height": null,
      "justify_content": null,
      "justify_items": null,
      "left": null,
      "margin": null,
      "max_height": null,
      "max_width": null,
      "min_height": null,
      "min_width": null,
      "object_fit": null,
      "object_position": null,
      "order": null,
      "overflow": null,
      "overflow_x": null,
      "overflow_y": null,
      "padding": null,
      "right": null,
      "top": null,
      "visibility": null,
      "width": null
     }
    },
    "d600e6ef8ccb48948955c8333f09e991": {
     "model_module": "@jupyter-widgets/output",
     "model_module_version": "1.0.0",
     "model_name": "OutputModel",
     "state": {
      "_dom_classes": [],
      "_model_module": "@jupyter-widgets/output",
      "_model_module_version": "1.0.0",
      "_model_name": "OutputModel",
      "_view_count": null,
      "_view_module": "@jupyter-widgets/output",
      "_view_module_version": "1.0.0",
      "_view_name": "OutputView",
      "layout": "IPY_MODEL_310eb801a4b74eb18d4a8f78f39215d8",
      "msg_id": "",
      "outputs": [
       {
        "data": {
         "image/png": "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\n",
         "text/plain": "<Figure size 1500x500 with 3 Axes>"
        },
        "metadata": {},
        "output_type": "display_data"
       }
      ]
     }
    },
    "ec34ef7b75394c75bfc9237e302d8f00": {
     "model_module": "@jupyter-widgets/base",
     "model_module_version": "1.2.0",
     "model_name": "LayoutModel",
     "state": {
      "_model_module": "@jupyter-widgets/base",
      "_model_module_version": "1.2.0",
      "_model_name": "LayoutModel",
      "_view_count": null,
      "_view_module": "@jupyter-widgets/base",
      "_view_module_version": "1.2.0",
      "_view_name": "LayoutView",
      "align_content": null,
      "align_items": null,
      "align_self": null,
      "border": null,
      "bottom": null,
      "display": null,
      "flex": null,
      "flex_flow": null,
      "grid_area": null,
      "grid_auto_columns": null,
      "grid_auto_flow": null,
      "grid_auto_rows": null,
      "grid_column": null,
      "grid_gap": null,
      "grid_row": null,
      "grid_template_areas": null,
      "grid_template_columns": null,
      "grid_template_rows": null,
      "height": null,
      "justify_content": null,
      "justify_items": null,
      "left": null,
      "margin": null,
      "max_height": null,
      "max_width": null,
      "min_height": null,
      "min_width": null,
      "object_fit": null,
      "object_position": null,
      "order": null,
      "overflow": null,
      "overflow_x": null,
      "overflow_y": null,
      "padding": null,
      "right": null,
      "top": null,
      "visibility": null,
      "width": null
     }
    },
    "fa263e954b5245ed84e42dd5533193a1": {
     "model_module": "@jupyter-widgets/controls",
     "model_module_version": "1.5.0",
     "model_name": "SliderStyleModel",
     "state": {
      "_model_module": "@jupyter-widgets/controls",
      "_model_module_version": "1.5.0",
      "_model_name": "SliderStyleModel",
      "_view_count": null,
      "_view_module": "@jupyter-widgets/base",
      "_view_module_version": "1.2.0",
      "_view_name": "StyleView",
      "description_width": "",
      "handle_color": null
     }
    }
   }
  }
 },
 "nbformat": 4,
 "nbformat_minor": 5
}
